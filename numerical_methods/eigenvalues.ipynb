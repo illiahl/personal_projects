{
 "cells": [
  {
   "cell_type": "markdown",
   "metadata": {},
   "source": [
    "# Пошук власних чисел матриць"
   ]
  },
  {
   "cell_type": "code",
   "execution_count": 13,
   "metadata": {},
   "outputs": [],
   "source": [
    "import numpy as np\n",
    "from sympy import *"
   ]
  },
  {
   "cell_type": "code",
   "execution_count": 14,
   "metadata": {},
   "outputs": [],
   "source": [
    "n = 40\n",
    "m = 7\n",
    "l = 0\n",
    "k = 4\n",
    "i = 6\n",
    "j = 0\n",
    "\n",
    "A = np.array([[n, 7, 2, 4, m, -3],\n",
    "              [5, -l, -2, -3, -3, 2],\n",
    "              [2, -1, k, -1, 2, -2*j],\n",
    "              [2*l, 5, -1, -i, 2, -2],\n",
    "              [-2, -4, 3, 1, j, -2],\n",
    "              [-1, -3*k, 8, 2, -2, m]])"
   ]
  },
  {
   "cell_type": "code",
   "execution_count": 15,
   "metadata": {},
   "outputs": [
    {
     "data": {
      "text/plain": [
       "array([[ 40,   7,   2,   4,   7,  -3],\n",
       "       [  5,   0,  -2,  -3,  -3,   2],\n",
       "       [  2,  -1,   4,  -1,   2,   0],\n",
       "       [  0,   5,  -1,  -6,   2,  -2],\n",
       "       [ -2,  -4,   3,   1,   0,  -2],\n",
       "       [ -1, -12,   8,   2,  -2,   7]])"
      ]
     },
     "execution_count": 15,
     "metadata": {},
     "output_type": "execute_result"
    }
   ],
   "source": [
    "A"
   ]
  },
  {
   "cell_type": "markdown",
   "metadata": {},
   "source": [
    "# Метод Фаддєєва-Леверье"
   ]
  },
  {
   "cell_type": "code",
   "execution_count": 16,
   "metadata": {},
   "outputs": [],
   "source": [
    "def faddeev_leverye_method(matrix):\n",
    "    K = np.diag(np.ones(matrix.shape[0]))\n",
    "    b = [1]\n",
    "    for i in np.arange(matrix.shape[0]):\n",
    "        b.append(-(1/(i+1))*np.trace(np.matmul(matrix, K)))\n",
    "        K = np.matmul(A, K) + b[i + 1]*np.diag(np.ones(matrix.shape[0]))\n",
    "    return np.array(b)\n",
    "\n",
    "def build_polynomial(coefficients):\n",
    "    x = symbols(\"x\")\n",
    "    polynomial = 0\n",
    "    for i in np.arange(coefficients.size):\n",
    "        polynomial += x**(coefficients.size - i - 1)*coefficients[i]\n",
    "    return polynomial"
   ]
  },
  {
   "cell_type": "code",
   "execution_count": 17,
   "metadata": {},
   "outputs": [],
   "source": [
    "b = faddeev_leverye_method(A)\n",
    "polynomial = build_polynomial(b)"
   ]
  },
  {
   "cell_type": "code",
   "execution_count": 18,
   "metadata": {},
   "outputs": [
    {
     "data": {
      "text/latex": [
       "$\\displaystyle 1.0 x^{6} - 45.0 x^{5} + 150.0 x^{4} + 1116.0 x^{3} - 7484.0 x^{2} - 51900.0 x + 36288.0$"
      ],
      "text/plain": [
       "1.0*x**6 - 45.0*x**5 + 150.0*x**4 + 1116.0*x**3 - 7484.0*x**2 - 51900.0*x + 36288.0"
      ]
     },
     "execution_count": 18,
     "metadata": {},
     "output_type": "execute_result"
    }
   ],
   "source": [
    "polynomial"
   ]
  },
  {
   "cell_type": "markdown",
   "metadata": {},
   "source": [
    "# Метод Крилова"
   ]
  },
  {
   "cell_type": "code",
   "execution_count": 19,
   "metadata": {},
   "outputs": [],
   "source": [
    "def krylovs_method(matrix, vector):\n",
    "    M = []\n",
    "    M.append(vector)\n",
    "    for i in np.arange(matrix.shape[0] - 1):\n",
    "        M.append(np.dot(np.linalg.matrix_power(matrix, i+1), vector))\n",
    "    M = np.array(M)\n",
    "    M = M.transpose()\n",
    "    M = np.flip(M, axis=1)\n",
    "    if np.linalg.det(M) == 0:\n",
    "        print(\"Оберіть інший вектор\")\n",
    "        exit()\n",
    "    x_n = np.dot(np.linalg.matrix_power(matrix, matrix.shape[0]), vector)\n",
    "    return np.array(np.concatenate(([1], np.linalg.solve(M, -x_n)), axis=None))"
   ]
  },
  {
   "cell_type": "code",
   "execution_count": 20,
   "metadata": {},
   "outputs": [],
   "source": [
    "b = krylovs_method(A, [1, 0, 0, 0, 0, 0])\n",
    "polynomial = build_polynomial(b)"
   ]
  },
  {
   "cell_type": "code",
   "execution_count": 21,
   "metadata": {},
   "outputs": [
    {
     "data": {
      "text/latex": [
       "$\\displaystyle 1.0 x^{6} - 45.000000000005 x^{5} + 150.000000000232 x^{4} + 1115.99999999893 x^{3} - 7484.00000000379 x^{2} - 51899.9999999454 x + 36288.0000001959$"
      ],
      "text/plain": [
       "1.0*x**6 - 45.000000000005*x**5 + 150.000000000232*x**4 + 1115.99999999893*x**3 - 7484.00000000379*x**2 - 51899.9999999454*x + 36288.0000001959"
      ]
     },
     "execution_count": 21,
     "metadata": {},
     "output_type": "execute_result"
    }
   ],
   "source": [
    "polynomial"
   ]
  },
  {
   "cell_type": "markdown",
   "metadata": {},
   "source": [
    "# Корені характеристичного полінома"
   ]
  },
  {
   "cell_type": "code",
   "execution_count": 22,
   "metadata": {},
   "outputs": [
    {
     "data": {
      "text/plain": [
       "array([40.77938309+0.j        ,  6.11066969+4.44428675j,\n",
       "        6.11066969-4.44428675j, -4.32302314+2.33760399j,\n",
       "       -4.32302314-2.33760399j,  0.64532381+0.j        ])"
      ]
     },
     "execution_count": 22,
     "metadata": {},
     "output_type": "execute_result"
    }
   ],
   "source": [
    "np.roots(b)"
   ]
  },
  {
   "cell_type": "code",
   "execution_count": 23,
   "metadata": {},
   "outputs": [
    {
     "data": {
      "text/plain": [
       "array([40.77938309+0.j        ,  6.11066969+4.44428675j,\n",
       "        6.11066969-4.44428675j,  0.64532381+0.j        ,\n",
       "       -4.32302314+2.33760399j, -4.32302314-2.33760399j])"
      ]
     },
     "execution_count": 23,
     "metadata": {},
     "output_type": "execute_result"
    }
   ],
   "source": [
    "np.linalg.eigvals(A)"
   ]
  },
  {
   "cell_type": "markdown",
   "metadata": {},
   "source": [
    "# Ітераційний метод на основі QR декомпозиції"
   ]
  },
  {
   "cell_type": "code",
   "execution_count": 24,
   "metadata": {},
   "outputs": [],
   "source": [
    "def qr_algorithm(matrix, number_of_iterations):\n",
    "    for i in np.arange(number_of_iterations):\n",
    "        Q, R = np.linalg.qr(matrix)\n",
    "        matrix = np.matmul(R, Q)\n",
    "    print(matrix)\n",
    "    eigvals = []\n",
    "    j = 0\n",
    "    while j < matrix.shape[0]:\n",
    "        if j+1 < matrix.shape[0] and matrix[j+1][j] != 0:\n",
    "            i = symbols(\"i\")\n",
    "            b = matrix[j][j] + matrix[j+1][j+1]\n",
    "            D = abs(b**2 - 4*(matrix[j][j]*matrix[j+1][j+1] \n",
    "                    - matrix[j][j+1]*matrix[j+1][j]))\n",
    "            eigvals.append(b/2 + (sqrt(D)/2)*i)\n",
    "            eigvals.append(b/2 - (sqrt(D)/2)*i)\n",
    "            j += 2\n",
    "        else:\n",
    "            eigvals.append(matrix[j][j])\n",
    "            j += 1\n",
    "    return np.array(eigvals)"
   ]
  },
  {
   "cell_type": "code",
   "execution_count": 25,
   "metadata": {},
   "outputs": [
    {
     "name": "stdout",
     "output_type": "stream",
     "text": [
      "[[40.77938309  4.21957293 -0.1583263   4.36406043  7.74259928  1.25064059]\n",
      " [ 0.          3.26840558  3.78463175  0.09271825  4.15368926 -2.03405446]\n",
      " [ 0.         -7.35346311  8.95293379 12.19786521  2.84598216  1.4334282 ]\n",
      " [ 0.          0.          0.         -5.2969855  -1.97317301  3.07693862]\n",
      " [ 0.          0.          0.          3.25009265 -3.34906078 -3.07645908]\n",
      " [ 0.          0.          0.          0.          0.          0.64532381]]\n"
     ]
    },
    {
     "data": {
      "text/plain": [
       "array([40.77938308995223, 4.44428674560195*i + 6.11066968730882,\n",
       "       6.11066968730882 - 4.44428674560195*i,\n",
       "       2.33760399314684*i - 4.32302313976035,\n",
       "       -2.33760399314684*i - 4.32302313976035, 0.6453238149514212],\n",
       "      dtype=object)"
      ]
     },
     "execution_count": 25,
     "metadata": {},
     "output_type": "execute_result"
    }
   ],
   "source": [
    "qr_algorithm(A, 10**5)"
   ]
  }
 ],
 "metadata": {
  "kernelspec": {
   "display_name": "Python 3 (ipykernel)",
   "language": "python",
   "name": "python3"
  },
  "language_info": {
   "codemirror_mode": {
    "name": "ipython",
    "version": 3
   },
   "file_extension": ".py",
   "mimetype": "text/x-python",
   "name": "python",
   "nbconvert_exporter": "python",
   "pygments_lexer": "ipython3",
   "version": "3.10.6"
  }
 },
 "nbformat": 4,
 "nbformat_minor": 2
}
