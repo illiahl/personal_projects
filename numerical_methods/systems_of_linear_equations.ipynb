{
 "cells": [
  {
   "cell_type": "markdown",
   "metadata": {},
   "source": [
    "# Розв'язок систем лінійних рівнянь"
   ]
  },
  {
   "attachments": {},
   "cell_type": "markdown",
   "metadata": {},
   "source": [
    "# Вхідні дані"
   ]
  },
  {
   "cell_type": "code",
   "execution_count": 125,
   "metadata": {},
   "outputs": [],
   "source": [
    "import numpy as np\n",
    "from scipy import linalg"
   ]
  },
  {
   "cell_type": "code",
   "execution_count": 126,
   "metadata": {},
   "outputs": [],
   "source": [
    "n = 40\n",
    "m = 4\n",
    "l = 0\n",
    "k = 4\n",
    "i = 6\n",
    "j = 0\n",
    "g = 4\n",
    "\n",
    "A = np.array([[0.3*(n+1), -0.2*m, 1.1*k, -0.4*i, 1.5*(30+j), -0.15*g],\n",
    "[0.21*(40+n), -0.35*m, -2.1*k, -0.3*i, -4.5*j, 0.15*g], \n",
    "[1.1*n, -0.5*m, 1.4*k, -0.21*(54+i), 0.5, -0.75*g],\n",
    "[5.2*n, 0.1*m, -0.2*(40+k), 0.1*i, -1.25*j, -1.05*g], \n",
    "[0.1*n, -0.9*(50+m), 1.04*k, -0.4*i, 0.8, -0.12*g],\n",
    "[0.62, 0.3*m, -1.8*k, -0.41*i, 2.5*j, 0.2*(61+g)]])\n",
    "\n",
    "b = np.array([l, -k, n, -m, i, j])"
   ]
  },
  {
   "cell_type": "code",
   "execution_count": 127,
   "metadata": {},
   "outputs": [
    {
     "data": {
      "text/plain": [
       "array([[ 12.3 ,  -0.8 ,   4.4 ,  -2.4 ,  45.  ,  -0.6 ],\n",
       "       [ 16.8 ,  -1.4 ,  -8.4 ,  -1.8 ,  -0.  ,   0.6 ],\n",
       "       [ 44.  ,  -2.  ,   5.6 , -12.6 ,   0.5 ,  -3.  ],\n",
       "       [208.  ,   0.4 ,  -8.8 ,   0.6 ,  -0.  ,  -4.2 ],\n",
       "       [  4.  , -48.6 ,   4.16,  -2.4 ,   0.8 ,  -0.48],\n",
       "       [  0.62,   1.2 ,  -7.2 ,  -2.46,   0.  ,  13.  ]])"
      ]
     },
     "execution_count": 127,
     "metadata": {},
     "output_type": "execute_result"
    }
   ],
   "source": [
    "A"
   ]
  },
  {
   "cell_type": "code",
   "execution_count": 128,
   "metadata": {},
   "outputs": [
    {
     "data": {
      "text/plain": [
       "array([ 0, -4, 40, -4,  6,  0])"
      ]
     },
     "execution_count": 128,
     "metadata": {},
     "output_type": "execute_result"
    }
   ],
   "source": [
    "b"
   ]
  },
  {
   "attachments": {},
   "cell_type": "markdown",
   "metadata": {},
   "source": [
    "# Діагональне перевершення матриці"
   ]
  },
  {
   "cell_type": "code",
   "execution_count": 129,
   "metadata": {},
   "outputs": [],
   "source": [
    "def make_diagonally_dominant(matrix):\n",
    "    for i in np.arange(matrix.shape[0]):\n",
    "        while(abs(matrix[i][i]) <= (np.sum(np.abs(matrix)[i]) - abs(matrix[i][i]))):\n",
    "            matrix[i][i] += 1\n",
    "\n",
    "make_diagonally_dominant(A)"
   ]
  },
  {
   "attachments": {},
   "cell_type": "markdown",
   "metadata": {},
   "source": [
    "# Точні методи розв'язку"
   ]
  },
  {
   "cell_type": "code",
   "execution_count": 130,
   "metadata": {},
   "outputs": [
    {
     "data": {
      "text/plain": [
       "5000577053.357181"
      ]
     },
     "execution_count": 130,
     "metadata": {},
     "output_type": "execute_result"
    }
   ],
   "source": [
    "np.linalg.det(A)"
   ]
  },
  {
   "attachments": {},
   "cell_type": "markdown",
   "metadata": {},
   "source": [
    "# Метод Крамера"
   ]
  },
  {
   "cell_type": "code",
   "execution_count": 131,
   "metadata": {},
   "outputs": [],
   "source": [
    "def solve_using_cramers_rule(matrix, coefficients_vector):\n",
    "    x = np.array([])\n",
    "    for i in np.arange(matrix.shape[0]):\n",
    "        matrix_i = np.copy(np.transpose(matrix))\n",
    "        matrix_i[i] = coefficients_vector\n",
    "        matrix_i = np.transpose(matrix_i)\n",
    "        x_i = np.linalg.det(matrix_i)/np.linalg.det(matrix)\n",
    "        x = np.append(x, x_i)\n",
    "    return x\n",
    "\n",
    "x = solve_using_cramers_rule(A, b)"
   ]
  },
  {
   "cell_type": "code",
   "execution_count": 132,
   "metadata": {},
   "outputs": [
    {
     "data": {
      "text/plain": [
       "array([-0.40792601,  0.42119903,  1.05068463,  0.41796394,  0.41876593,\n",
       "        0.6415843 ])"
      ]
     },
     "execution_count": 132,
     "metadata": {},
     "output_type": "execute_result"
    }
   ],
   "source": [
    "x"
   ]
  },
  {
   "attachments": {},
   "cell_type": "markdown",
   "metadata": {},
   "source": [
    "# За допомогою оберненої матриці"
   ]
  },
  {
   "cell_type": "code",
   "execution_count": 133,
   "metadata": {},
   "outputs": [],
   "source": [
    "A_inverse = np.copy(np.linalg.inv(A))"
   ]
  },
  {
   "cell_type": "code",
   "execution_count": 134,
   "metadata": {},
   "outputs": [
    {
     "data": {
      "text/plain": [
       "array([[ 5.86862881e-02, -7.40735983e-02, -1.11008268e-02,\n",
       "        -1.05682727e-03, -4.40691062e-02,  1.59704662e-03],\n",
       "       [-5.37845772e-02,  1.03124327e-01,  1.49423096e-02,\n",
       "         1.52162337e-03,  4.03484083e-02, -1.81233536e-03],\n",
       "       [-5.61792682e-02,  7.16522102e-02,  2.73264712e-02,\n",
       "         2.01167421e-03,  4.20468868e-02,  2.60862030e-03],\n",
       "       [-5.79750610e-02,  7.30876219e-02,  1.17907720e-02,\n",
       "         5.62131334e-03,  4.35281331e-02,  9.52096991e-05],\n",
       "       [-4.63757751e-02,  8.70951066e-02,  1.15910862e-02,\n",
       "         1.40974833e-03,  5.15236511e-02, -1.12745962e-03],\n",
       "       [-3.99194913e-02,  4.75283002e-02,  1.65159717e-02,\n",
       "         2.08782846e-03,  2.99016576e-02,  7.84769935e-02]])"
      ]
     },
     "execution_count": 134,
     "metadata": {},
     "output_type": "execute_result"
    }
   ],
   "source": [
    "A_inverse"
   ]
  },
  {
   "cell_type": "code",
   "execution_count": 135,
   "metadata": {},
   "outputs": [
    {
     "data": {
      "text/plain": [
       "array([[ 1.00000000e+00, -3.22513505e-17, -6.58997085e-17,\n",
       "        -2.64949101e-17, -4.80895287e-16,  1.00692120e-17],\n",
       "       [-2.32954334e-16,  1.00000000e+00,  2.07968982e-17,\n",
       "        -2.98836029e-17, -2.44219126e-16, -1.00692120e-17],\n",
       "       [ 4.02455846e-16,  6.52256027e-16,  1.00000000e+00,\n",
       "         3.33934269e-17, -4.78783679e-16,  1.38777878e-17],\n",
       "       [-6.28511555e-16, -1.58773497e-15, -5.93433697e-16,\n",
       "         1.00000000e+00, -8.36591091e-16, -1.11647569e-17],\n",
       "       [ 7.52577210e-16,  4.95309852e-16, -1.44660111e-16,\n",
       "        -1.05273787e-17,  1.00000000e+00,  8.05536959e-18],\n",
       "       [-2.63677968e-16,  1.38777878e-17,  2.42861287e-17,\n",
       "        -1.08420217e-17,  1.87350135e-16,  1.00000000e+00]])"
      ]
     },
     "execution_count": 135,
     "metadata": {},
     "output_type": "execute_result"
    }
   ],
   "source": [
    "np.matmul(A,A_inverse)"
   ]
  },
  {
   "cell_type": "code",
   "execution_count": 136,
   "metadata": {},
   "outputs": [],
   "source": [
    "x = np.dot(A_inverse, b)"
   ]
  },
  {
   "cell_type": "code",
   "execution_count": 137,
   "metadata": {},
   "outputs": [
    {
     "data": {
      "text/plain": [
       "array([-0.40792601,  0.42119903,  1.05068463,  0.41796394,  0.41876593,\n",
       "        0.6415843 ])"
      ]
     },
     "execution_count": 137,
     "metadata": {},
     "output_type": "execute_result"
    }
   ],
   "source": [
    "x"
   ]
  },
  {
   "attachments": {},
   "cell_type": "markdown",
   "metadata": {},
   "source": [
    "# За допомогою LU декомпозиції та методу Гаусса"
   ]
  },
  {
   "cell_type": "code",
   "execution_count": 138,
   "metadata": {},
   "outputs": [],
   "source": [
    "P, L, U = linalg.lu(A)"
   ]
  },
  {
   "cell_type": "code",
   "execution_count": 139,
   "metadata": {},
   "outputs": [
    {
     "data": {
      "text/plain": [
       "array([[0., 0., 0., 1., 0., 0.],\n",
       "       [0., 0., 0., 0., 1., 0.],\n",
       "       [0., 0., 1., 0., 0., 0.],\n",
       "       [1., 0., 0., 0., 0., 0.],\n",
       "       [0., 1., 0., 0., 0., 0.],\n",
       "       [0., 0., 0., 0., 0., 1.]])"
      ]
     },
     "execution_count": 139,
     "metadata": {},
     "output_type": "execute_result"
    }
   ],
   "source": [
    "P"
   ]
  },
  {
   "cell_type": "code",
   "execution_count": 140,
   "metadata": {},
   "outputs": [
    {
     "data": {
      "text/plain": [
       "array([[ 1.        ,  0.        ,  0.        ,  0.        ,  0.        ,\n",
       "         0.        ],\n",
       "       [ 0.01923077,  1.        ,  0.        ,  0.        ,  0.        ,\n",
       "         0.        ],\n",
       "       [ 0.21153846,  0.04288653,  1.        ,  0.        ,  0.        ,\n",
       "         0.        ],\n",
       "       [ 0.25625   ,  0.01856702,  0.10228751,  1.        ,  0.        ,\n",
       "         0.        ],\n",
       "       [ 0.08076923, -0.58771958, -0.08004336,  0.53486436,  1.        ,\n",
       "         0.        ],\n",
       "       [ 0.00298077, -0.02466292, -0.10994791,  0.18474583, -0.60563355,\n",
       "         1.        ]])"
      ]
     },
     "execution_count": 140,
     "metadata": {},
     "output_type": "execute_result"
    }
   ],
   "source": [
    "L"
   ]
  },
  {
   "cell_type": "code",
   "execution_count": 141,
   "metadata": {},
   "outputs": [
    {
     "data": {
      "text/plain": [
       "array([[ 2.08000000e+02,  4.00000000e-01, -8.80000000e+00,\n",
       "         2.21600000e+02, -0.00000000e+00, -4.20000000e+00],\n",
       "       [ 0.00000000e+00, -4.86076923e+01,  4.32923077e+00,\n",
       "        -6.66153846e+00,  5.98000000e+01, -3.99230769e-01],\n",
       "       [ 0.00000000e+00,  0.00000000e+00,  6.42758728e+01,\n",
       "        -5.91912328e+01, -2.06461465e+00, -2.09441684e+00],\n",
       "       [ 0.00000000e+00,  0.00000000e+00,  0.00000000e+00,\n",
       "        -5.30067912e+01,  4.41008765e+01,  6.97895212e-01],\n",
       "       [ 0.00000000e+00,  0.00000000e+00,  0.00000000e+00,\n",
       "         0.00000000e+00,  1.13923848e+01,  1.63671584e-01],\n",
       "       [ 0.00000000e+00,  0.00000000e+00,  0.00000000e+00,\n",
       "         0.00000000e+00,  0.00000000e+00,  1.27425881e+01]])"
      ]
     },
     "execution_count": 141,
     "metadata": {},
     "output_type": "execute_result"
    }
   ],
   "source": [
    "U"
   ]
  },
  {
   "cell_type": "code",
   "execution_count": 142,
   "metadata": {},
   "outputs": [],
   "source": [
    "def gaussian_elemination_lower(matrix, coefficients_vector):\n",
    "    x = []\n",
    "    for i in np.arange(matrix.shape[0]):\n",
    "        j = i - 1\n",
    "        sum_i = 0\n",
    "        while j >= 0:\n",
    "            sum_i += x[j]*matrix[i][j]\n",
    "            j -= 1 \n",
    "        x_i = (coefficients_vector[i] - sum_i)/matrix[i][i]\n",
    "        x.append(x_i)\n",
    "    return np.array(x)\n",
    "\n",
    "def gaussian_elemination_upper(matrix, coefficients_vector):\n",
    "    x = []\n",
    "    for i in np.arange(matrix.shape[0] - 1, -1, -1):\n",
    "        j = i + 1\n",
    "        sum_i = 0\n",
    "        while j <= matrix.shape[0] - 1:\n",
    "            sum_i += x[matrix.shape[0] -1 - j]*matrix[i][j]\n",
    "            j += 1 \n",
    "        x_i = (coefficients_vector[i] - sum_i)/matrix[i][i]\n",
    "        x.append(x_i)\n",
    "    x = x[::-1]\n",
    "    return np.array(x)"
   ]
  },
  {
   "cell_type": "code",
   "execution_count": 143,
   "metadata": {},
   "outputs": [],
   "source": [
    "y = gaussian_elemination_lower(L, np.dot(np.linalg.inv(P), b))\n",
    "x = gaussian_elemination_upper(U, y)"
   ]
  },
  {
   "cell_type": "code",
   "execution_count": 144,
   "metadata": {},
   "outputs": [
    {
     "data": {
      "text/plain": [
       "array([-0.40792601,  0.42119903,  1.05068463,  0.41796394,  0.41876593,\n",
       "        0.6415843 ])"
      ]
     },
     "execution_count": 144,
     "metadata": {},
     "output_type": "execute_result"
    }
   ],
   "source": [
    "x"
   ]
  },
  {
   "attachments": {},
   "cell_type": "markdown",
   "metadata": {},
   "source": [
    "# Ітераційні методи"
   ]
  },
  {
   "attachments": {},
   "cell_type": "markdown",
   "metadata": {},
   "source": [
    "# Метод Якобі"
   ]
  },
  {
   "cell_type": "code",
   "execution_count": 145,
   "metadata": {},
   "outputs": [],
   "source": [
    "D = np.zeros(A.shape)\n",
    "np.fill_diagonal(D, np.diagonal(A))"
   ]
  },
  {
   "cell_type": "code",
   "execution_count": 146,
   "metadata": {},
   "outputs": [
    {
     "data": {
      "text/plain": [
       "array([[ 53.3,   0. ,   0. ,   0. ,   0. ,   0. ],\n",
       "       [  0. ,  28.6,   0. ,   0. ,   0. ,   0. ],\n",
       "       [  0. ,   0. ,  62.6,   0. ,   0. ,   0. ],\n",
       "       [  0. ,   0. ,   0. , 221.6,   0. ,   0. ],\n",
       "       [  0. ,   0. ,   0. ,   0. ,  59.8,   0. ],\n",
       "       [  0. ,   0. ,   0. ,   0. ,   0. ,  13. ]])"
      ]
     },
     "execution_count": 146,
     "metadata": {},
     "output_type": "execute_result"
    }
   ],
   "source": [
    "D"
   ]
  },
  {
   "cell_type": "code",
   "execution_count": 147,
   "metadata": {},
   "outputs": [
    {
     "data": {
      "text/plain": [
       "array([[  0.  ,  -0.8 ,   4.4 ,  -2.4 ,  45.  ,  -0.6 ],\n",
       "       [ 16.8 ,   0.  ,  -8.4 ,  -1.8 ,  -0.  ,   0.6 ],\n",
       "       [ 44.  ,  -2.  ,   0.  , -12.6 ,   0.5 ,  -3.  ],\n",
       "       [208.  ,   0.4 ,  -8.8 ,   0.  ,  -0.  ,  -4.2 ],\n",
       "       [  4.  , -48.6 ,   4.16,  -2.4 ,   0.  ,  -0.48],\n",
       "       [  0.62,   1.2 ,  -7.2 ,  -2.46,   0.  ,   0.  ]])"
      ]
     },
     "execution_count": 147,
     "metadata": {},
     "output_type": "execute_result"
    }
   ],
   "source": [
    "A-D"
   ]
  },
  {
   "cell_type": "code",
   "execution_count": 148,
   "metadata": {},
   "outputs": [],
   "source": [
    "def invert_diagonal_matrix(matrix):\n",
    "    matrix_inv = np.copy(matrix)\n",
    "    for i in np.arange(matrix.shape[0]):\n",
    "        matrix_inv[i][i] = 1/matrix[i][i]\n",
    "    return matrix_inv"
   ]
  },
  {
   "cell_type": "code",
   "execution_count": 149,
   "metadata": {},
   "outputs": [],
   "source": [
    "D_inv = invert_diagonal_matrix(D)"
   ]
  },
  {
   "cell_type": "code",
   "execution_count": 150,
   "metadata": {},
   "outputs": [
    {
     "data": {
      "text/plain": [
       "array([[0.01876173, 0.        , 0.        , 0.        , 0.        ,\n",
       "        0.        ],\n",
       "       [0.        , 0.03496503, 0.        , 0.        , 0.        ,\n",
       "        0.        ],\n",
       "       [0.        , 0.        , 0.01597444, 0.        , 0.        ,\n",
       "        0.        ],\n",
       "       [0.        , 0.        , 0.        , 0.00451264, 0.        ,\n",
       "        0.        ],\n",
       "       [0.        , 0.        , 0.        , 0.        , 0.01672241,\n",
       "        0.        ],\n",
       "       [0.        , 0.        , 0.        , 0.        , 0.        ,\n",
       "        0.07692308]])"
      ]
     },
     "execution_count": 150,
     "metadata": {},
     "output_type": "execute_result"
    }
   ],
   "source": [
    "D_inv"
   ]
  },
  {
   "cell_type": "code",
   "execution_count": 151,
   "metadata": {},
   "outputs": [],
   "source": [
    "Q = -np.matmul(D_inv, A-D)"
   ]
  },
  {
   "cell_type": "code",
   "execution_count": 152,
   "metadata": {},
   "outputs": [
    {
     "data": {
      "text/plain": [
       "array([[-0.        ,  0.01500938, -0.08255159,  0.04502814, -0.84427767,\n",
       "         0.01125704],\n",
       "       [-0.58741259, -0.        ,  0.29370629,  0.06293706, -0.        ,\n",
       "        -0.02097902],\n",
       "       [-0.7028754 ,  0.03194888, -0.        ,  0.20127796, -0.00798722,\n",
       "         0.04792332],\n",
       "       [-0.93862816, -0.00180505,  0.03971119, -0.        , -0.        ,\n",
       "         0.01895307],\n",
       "       [-0.06688963,  0.81270903, -0.06956522,  0.04013378, -0.        ,\n",
       "         0.00802676],\n",
       "       [-0.04769231, -0.09230769,  0.55384615,  0.18923077, -0.        ,\n",
       "        -0.        ]])"
      ]
     },
     "execution_count": 152,
     "metadata": {},
     "output_type": "execute_result"
    }
   ],
   "source": [
    "Q"
   ]
  },
  {
   "cell_type": "code",
   "execution_count": 153,
   "metadata": {},
   "outputs": [],
   "source": [
    "def matrix_norm(matrix):\n",
    "    return np.max([np.sum(np.abs(matrix[i])) for i in np.arange(matrix.shape[0])])\n",
    "\n",
    "def vector_norm(vector):\n",
    "    return np.max(np.abs(vector))"
   ]
  },
  {
   "cell_type": "code",
   "execution_count": 154,
   "metadata": {},
   "outputs": [
    {
     "data": {
      "text/plain": [
       "0.9990974729241878"
      ]
     },
     "execution_count": 154,
     "metadata": {},
     "output_type": "execute_result"
    }
   ],
   "source": [
    "matrix_norm(Q)"
   ]
  },
  {
   "cell_type": "code",
   "execution_count": 155,
   "metadata": {},
   "outputs": [],
   "source": [
    "f = np.dot(D_inv, b)"
   ]
  },
  {
   "cell_type": "code",
   "execution_count": 156,
   "metadata": {},
   "outputs": [
    {
     "data": {
      "text/plain": [
       "array([ 0.        , -0.13986014,  0.63897764, -0.01805054,  0.10033445,\n",
       "        0.        ])"
      ]
     },
     "execution_count": 156,
     "metadata": {},
     "output_type": "execute_result"
    }
   ],
   "source": [
    "f"
   ]
  },
  {
   "cell_type": "code",
   "execution_count": 157,
   "metadata": {},
   "outputs": [],
   "source": [
    "def jacobi_method(matrix, vector, epsilon, starting_approximation):\n",
    "    y = starting_approximation\n",
    "    epsilon_k = 10\n",
    "    k = 0\n",
    "    while epsilon_k >= epsilon:\n",
    "        x_k = np.copy(y)\n",
    "        x_k = np.dot(matrix, y) + vector\n",
    "        epsilon_k = vector_norm(x_k - y)\n",
    "        y = x_k\n",
    "        k += 1\n",
    "    print(f\"Похибка останньої ітерації: {epsilon_k}\")\n",
    "    print(f\"Кількість ітерацій: {k}\")\n",
    "    print(f\"Нев`язок: {vector_norm(np.dot(matrix, x_k) + f - x_k)}\")\n",
    "    return x_k"
   ]
  },
  {
   "cell_type": "code",
   "execution_count": 158,
   "metadata": {},
   "outputs": [
    {
     "name": "stdout",
     "output_type": "stream",
     "text": [
      "Похибка останньої ітерації: 0.009984169367141194\n",
      "Кількість ітерацій: 15\n",
      "Нев`язок: 0.008256646959375835\n"
     ]
    },
    {
     "data": {
      "text/plain": [
       "array([-0.33600122,  0.34374108,  0.97096967,  0.33817176,  0.34458989,\n",
       "        0.57921516])"
      ]
     },
     "execution_count": 158,
     "metadata": {},
     "output_type": "execute_result"
    }
   ],
   "source": [
    "jacobi_method(Q, f, 10**(-2), f)"
   ]
  },
  {
   "cell_type": "code",
   "execution_count": 159,
   "metadata": {},
   "outputs": [
    {
     "name": "stdout",
     "output_type": "stream",
     "text": [
      "Похибка останньої ітерації: 0.0009754785118092357\n",
      "Кількість ітерацій: 35\n",
      "Нев`язок: 0.0008693309564097862\n"
     ]
    },
    {
     "data": {
      "text/plain": [
       "array([-0.40079467,  0.41345249,  1.04270982,  0.40998013,  0.41137244,\n",
       "        0.63535316])"
      ]
     },
     "execution_count": 159,
     "metadata": {},
     "output_type": "execute_result"
    }
   ],
   "source": [
    "jacobi_method(Q, f, 10**(-3), f)"
   ]
  },
  {
   "cell_type": "code",
   "execution_count": 160,
   "metadata": {},
   "outputs": [
    {
     "name": "stdout",
     "output_type": "stream",
     "text": [
      "Похибка останньої ітерації: 9.72389965646081e-05\n",
      "Кількість ітерацій: 55\n",
      "Нев`язок: 8.66497631322738e-05\n"
     ]
    },
    {
     "data": {
      "text/plain": [
       "array([-0.40721529,  0.42042699,  1.04988984,  0.41716825,  0.41802908,\n",
       "        0.64096328])"
      ]
     },
     "execution_count": 160,
     "metadata": {},
     "output_type": "execute_result"
    }
   ],
   "source": [
    "jacobi_method(Q, f, 10**(-4), f)"
   ]
  },
  {
   "cell_type": "code",
   "execution_count": 161,
   "metadata": {},
   "outputs": [
    {
     "name": "stdout",
     "output_type": "stream",
     "text": [
      "Похибка останньої ітерації: 9.691035538217374e-06\n",
      "Кількість ітерацій: 75\n",
      "Нев`язок: 8.635682230917485e-06\n"
     ]
    },
    {
     "data": {
      "text/plain": [
       "array([-0.40785517,  0.42112209,  1.05060542,  0.41788464,  0.4186925 ,\n",
       "        0.64152241])"
      ]
     },
     "execution_count": 161,
     "metadata": {},
     "output_type": "execute_result"
    }
   ],
   "source": [
    "jacobi_method(Q, f, 10**(-5), f)"
   ]
  },
  {
   "cell_type": "code",
   "execution_count": 162,
   "metadata": {},
   "outputs": [
    {
     "name": "stdout",
     "output_type": "stream",
     "text": [
      "Похибка останньої ітерації: 9.658273284474106e-07\n",
      "Кількість ітерацій: 95\n",
      "Нев`язок: 8.60648775025119e-07\n"
     ]
    },
    {
     "data": {
      "text/plain": [
       "array([-0.40791895,  0.42119136,  1.05067674,  0.41795603,  0.41875861,\n",
       "        0.64157813])"
      ]
     },
     "execution_count": 162,
     "metadata": {},
     "output_type": "execute_result"
    }
   ],
   "source": [
    "jacobi_method(Q, f, 10**(-6), f)"
   ]
  },
  {
   "cell_type": "code",
   "execution_count": 163,
   "metadata": {},
   "outputs": [
    {
     "name": "stdout",
     "output_type": "stream",
     "text": [
      "Похибка останньої ітерації: 0.009984169367141194\n",
      "Кількість ітерацій: 16\n",
      "Нев`язок: 0.008256646959375835\n"
     ]
    },
    {
     "data": {
      "text/plain": [
       "array([-0.33600122,  0.34374108,  0.97096967,  0.33817176,  0.34458989,\n",
       "        0.57921516])"
      ]
     },
     "execution_count": 163,
     "metadata": {},
     "output_type": "execute_result"
    }
   ],
   "source": [
    "jacobi_method(Q, f, 10**(-2), np.zeros(6))"
   ]
  },
  {
   "cell_type": "code",
   "execution_count": 164,
   "metadata": {},
   "outputs": [
    {
     "name": "stdout",
     "output_type": "stream",
     "text": [
      "Похибка останньої ітерації: 0.0009754785118092357\n",
      "Кількість ітерацій: 36\n",
      "Нев`язок: 0.0008693309564097862\n"
     ]
    },
    {
     "data": {
      "text/plain": [
       "array([-0.40079467,  0.41345249,  1.04270982,  0.40998013,  0.41137244,\n",
       "        0.63535316])"
      ]
     },
     "execution_count": 164,
     "metadata": {},
     "output_type": "execute_result"
    }
   ],
   "source": [
    "jacobi_method(Q, f, 10**(-3), np.zeros(6))"
   ]
  },
  {
   "cell_type": "code",
   "execution_count": 165,
   "metadata": {},
   "outputs": [
    {
     "name": "stdout",
     "output_type": "stream",
     "text": [
      "Похибка останньої ітерації: 9.72389965646081e-05\n",
      "Кількість ітерацій: 56\n",
      "Нев`язок: 8.66497631322738e-05\n"
     ]
    },
    {
     "data": {
      "text/plain": [
       "array([-0.40721529,  0.42042699,  1.04988984,  0.41716825,  0.41802908,\n",
       "        0.64096328])"
      ]
     },
     "execution_count": 165,
     "metadata": {},
     "output_type": "execute_result"
    }
   ],
   "source": [
    "jacobi_method(Q, f, 10**(-4), np.zeros(6))"
   ]
  },
  {
   "cell_type": "code",
   "execution_count": 166,
   "metadata": {},
   "outputs": [
    {
     "name": "stdout",
     "output_type": "stream",
     "text": [
      "Похибка останньої ітерації: 9.691035538217374e-06\n",
      "Кількість ітерацій: 76\n",
      "Нев`язок: 8.635682230917485e-06\n"
     ]
    },
    {
     "data": {
      "text/plain": [
       "array([-0.40785517,  0.42112209,  1.05060542,  0.41788464,  0.4186925 ,\n",
       "        0.64152241])"
      ]
     },
     "execution_count": 166,
     "metadata": {},
     "output_type": "execute_result"
    }
   ],
   "source": [
    "jacobi_method(Q, f, 10**(-5), np.zeros(6))"
   ]
  },
  {
   "cell_type": "code",
   "execution_count": 167,
   "metadata": {},
   "outputs": [
    {
     "name": "stdout",
     "output_type": "stream",
     "text": [
      "Похибка останньої ітерації: 9.658273284474106e-07\n",
      "Кількість ітерацій: 96\n",
      "Нев`язок: 8.60648775025119e-07\n"
     ]
    },
    {
     "data": {
      "text/plain": [
       "array([-0.40791895,  0.42119136,  1.05067674,  0.41795603,  0.41875861,\n",
       "        0.64157813])"
      ]
     },
     "execution_count": 167,
     "metadata": {},
     "output_type": "execute_result"
    }
   ],
   "source": [
    "jacobi_method(Q, f, 10**(-6), np.zeros(6))"
   ]
  },
  {
   "attachments": {},
   "cell_type": "markdown",
   "metadata": {},
   "source": [
    "# Метод Зейделя"
   ]
  },
  {
   "cell_type": "code",
   "execution_count": 168,
   "metadata": {},
   "outputs": [],
   "source": [
    "def seidel_method(matrix, vector, epsilon, starting_approximation):\n",
    "    y = starting_approximation\n",
    "    epsilon_k = 10\n",
    "    k = 0\n",
    "    while epsilon_k >= epsilon:\n",
    "        x_k = np.copy(y)\n",
    "        for i in np.arange(matrix.shape[0]):\n",
    "            sum_left = 0\n",
    "            sum_right = 0\n",
    "            for j in np.arange(i):\n",
    "                sum_left += (matrix[i][j]*x_k[j])\n",
    "            for j in np.arange(i + 1, matrix.shape[0]):\n",
    "                sum_right += (matrix[i][j]*y[j])\n",
    "            x_k[i] = sum_left + sum_right + vector[i]\n",
    "        epsilon_k = vector_norm(x_k - y)\n",
    "        y = x_k\n",
    "        k += 1\n",
    "    print(f\"Похибка останньої ітерації: {epsilon_k}\")\n",
    "    print(f\"Кількість ітерацій: {k}\")\n",
    "    print(f\"Нев`язок: {vector_norm(np.dot(matrix, x_k) + f - x_k)}\")\n",
    "    return x_k"
   ]
  },
  {
   "cell_type": "code",
   "execution_count": 169,
   "metadata": {},
   "outputs": [
    {
     "name": "stdout",
     "output_type": "stream",
     "text": [
      "Похибка останньої ітерації: 0.008449770294843173\n",
      "Кількість ітерацій: 10\n",
      "Нев`язок: 0.006223334658536139\n"
     ]
    },
    {
     "data": {
      "text/plain": [
       "array([-0.38101705,  0.39311296,  1.02291738,  0.39118262,  0.39479717,\n",
       "        0.62244688])"
      ]
     },
     "execution_count": 169,
     "metadata": {},
     "output_type": "execute_result"
    }
   ],
   "source": [
    "seidel_method(Q, f, 10**(-2), f)"
   ]
  },
  {
   "cell_type": "code",
   "execution_count": 170,
   "metadata": {},
   "outputs": [
    {
     "name": "stdout",
     "output_type": "stream",
     "text": [
      "Похибка останньої ітерації: 0.0007921146025878789\n",
      "Кількість ітерацій: 19\n",
      "Нев`язок: 0.0005833989720773203\n"
     ]
    },
    {
     "data": {
      "text/plain": [
       "array([-0.40540347,  0.41856615,  1.04808164,  0.41545337,  0.41651902,\n",
       "        0.6397903 ])"
      ]
     },
     "execution_count": 170,
     "metadata": {},
     "output_type": "execute_result"
    }
   ],
   "source": [
    "seidel_method(Q, f, 10**(-3), f)"
   ]
  },
  {
   "cell_type": "code",
   "execution_count": 171,
   "metadata": {},
   "outputs": [
    {
     "name": "stdout",
     "output_type": "stream",
     "text": [
      "Похибка останньої ітерації: 9.659547831819548e-05\n",
      "Кількість ітерацій: 27\n",
      "Нев`язок: 7.114337063612863e-05\n"
     ]
    },
    {
     "data": {
      "text/plain": [
       "array([-0.40761839,  0.42087796,  1.05036721,  0.41765778,  0.41849193,\n",
       "        0.64136553])"
      ]
     },
     "execution_count": 171,
     "metadata": {},
     "output_type": "execute_result"
    }
   ],
   "source": [
    "seidel_method(Q, f, 10**(-4), f)"
   ]
  },
  {
   "cell_type": "code",
   "execution_count": 172,
   "metadata": {},
   "outputs": [
    {
     "name": "stdout",
     "output_type": "stream",
     "text": [
      "Похибка останньої ітерації: 9.055171339977797e-06\n",
      "Кількість ітерацій: 36\n",
      "Нев`язок: 6.669208766629797e-06\n"
     ]
    },
    {
     "data": {
      "text/plain": [
       "array([-0.40789717,  0.42116893,  1.05065487,  0.41793524,  0.41874025,\n",
       "        0.64156379])"
      ]
     },
     "execution_count": 172,
     "metadata": {},
     "output_type": "execute_result"
    }
   ],
   "source": [
    "seidel_method(Q, f, 10**(-5), f)"
   ]
  },
  {
   "cell_type": "code",
   "execution_count": 173,
   "metadata": {},
   "outputs": [
    {
     "name": "stdout",
     "output_type": "stream",
     "text": [
      "Похибка останньої ітерації: 8.488609346546383e-07\n",
      "Кількість ітерацій: 45\n",
      "Нев`язок: 6.251931161660451e-07\n"
     ]
    },
    {
     "data": {
      "text/plain": [
       "array([-0.4079233 ,  0.42119621,  1.05068184,  0.41796125,  0.41876353,\n",
       "        0.64158238])"
      ]
     },
     "execution_count": 173,
     "metadata": {},
     "output_type": "execute_result"
    }
   ],
   "source": [
    "seidel_method(Q, f, 10**(-6), f)"
   ]
  },
  {
   "cell_type": "code",
   "execution_count": 174,
   "metadata": {},
   "outputs": [
    {
     "name": "stdout",
     "output_type": "stream",
     "text": [
      "Похибка останньої ітерації: 0.00845413339739165\n",
      "Кількість ітерацій: 12\n",
      "Нев`язок: 0.006226540953543913\n"
     ]
    },
    {
     "data": {
      "text/plain": [
       "array([-0.38100329,  0.39309863,  1.02290321,  0.39116893,  0.39478494,\n",
       "        0.6224371 ])"
      ]
     },
     "execution_count": 174,
     "metadata": {},
     "output_type": "execute_result"
    }
   ],
   "source": [
    "seidel_method(Q, f, 10**(-2), np.zeros(6))"
   ]
  },
  {
   "cell_type": "code",
   "execution_count": 175,
   "metadata": {},
   "outputs": [
    {
     "name": "stdout",
     "output_type": "stream",
     "text": [
      "Похибка останньої ітерації: 0.0007925189457878012\n",
      "Кількість ітерацій: 21\n",
      "Нев`язок: 0.000583696774195952\n"
     ]
    },
    {
     "data": {
      "text/plain": [
       "array([-0.40540218,  0.41856481,  1.04808031,  0.41545209,  0.41651788,\n",
       "        0.63978938])"
      ]
     },
     "execution_count": 175,
     "metadata": {},
     "output_type": "execute_result"
    }
   ],
   "source": [
    "seidel_method(Q, f, 10**(-3), np.zeros(6))"
   ]
  },
  {
   "cell_type": "code",
   "execution_count": 176,
   "metadata": {},
   "outputs": [
    {
     "name": "stdout",
     "output_type": "stream",
     "text": [
      "Похибка останньої ітерації: 9.664478649007435e-05\n",
      "Кількість ітерацій: 29\n",
      "Нев`язок: 7.117968651360052e-05\n"
     ]
    },
    {
     "data": {
      "text/plain": [
       "array([-0.40761823,  0.4208778 ,  1.05036704,  0.41765763,  0.41849179,\n",
       "        0.64136542])"
      ]
     },
     "execution_count": 176,
     "metadata": {},
     "output_type": "execute_result"
    }
   ],
   "source": [
    "seidel_method(Q, f, 10**(-4), np.zeros(6))"
   ]
  },
  {
   "cell_type": "code",
   "execution_count": 177,
   "metadata": {},
   "outputs": [
    {
     "name": "stdout",
     "output_type": "stream",
     "text": [
      "Похибка останньої ітерації: 9.059793647181458e-06\n",
      "Кількість ітерацій: 38\n",
      "Нев`язок: 6.672613134139915e-06\n"
     ]
    },
    {
     "data": {
      "text/plain": [
       "array([-0.40789715,  0.42116892,  1.05065486,  0.41793522,  0.41874023,\n",
       "        0.64156378])"
      ]
     },
     "execution_count": 177,
     "metadata": {},
     "output_type": "execute_result"
    }
   ],
   "source": [
    "seidel_method(Q, f, 10**(-5), np.zeros(6))"
   ]
  },
  {
   "cell_type": "code",
   "execution_count": 178,
   "metadata": {},
   "outputs": [
    {
     "name": "stdout",
     "output_type": "stream",
     "text": [
      "Похибка останньої ітерації: 8.4929424459812e-07\n",
      "Кількість ітерацій: 47\n",
      "Нев`язок: 6.2551225249452e-07\n"
     ]
    },
    {
     "data": {
      "text/plain": [
       "array([-0.4079233 ,  0.42119621,  1.05068184,  0.41796125,  0.41876352,\n",
       "        0.64158238])"
      ]
     },
     "execution_count": 178,
     "metadata": {},
     "output_type": "execute_result"
    }
   ],
   "source": [
    "seidel_method(Q, f, 10**(-6), np.zeros(6))"
   ]
  },
  {
   "attachments": {},
   "cell_type": "markdown",
   "metadata": {},
   "source": [
    "# Метод релаксації"
   ]
  },
  {
   "cell_type": "code",
   "execution_count": 179,
   "metadata": {},
   "outputs": [],
   "source": [
    "def succesive_over_relaxation(matrix, vector, omega, epsilon, \n",
    "                              starting_approximation):\n",
    "    y = starting_approximation\n",
    "    epsilon_k = 10\n",
    "    k = 0\n",
    "    while epsilon_k >= epsilon:\n",
    "        x_k = np.copy(y)\n",
    "        for i in np.arange(matrix.shape[0]):\n",
    "            sum_left = 0\n",
    "            sum_right = 0\n",
    "            for j in np.arange(i):\n",
    "                sum_left += (matrix[i][j]*x_k[j])\n",
    "            for j in np.arange(i + 1, matrix.shape[0]):\n",
    "                sum_right += (matrix[i][j]*y[j])\n",
    "            x_k[i] = (1 - omega)*x_k[i] + omega*(sum_left + sum_right + vector[i])\n",
    "        epsilon_k = vector_norm(x_k - y)\n",
    "        y = x_k\n",
    "        k += 1\n",
    "    print(f\"Похибка останньої ітерації: {epsilon_k}\")\n",
    "    print(f\"Кількість ітерацій: {k}\")\n",
    "    print(f\"Нев`язок: {vector_norm(np.dot(matrix, x_k) + f - x_k)}\")\n",
    "    return x_k"
   ]
  },
  {
   "cell_type": "code",
   "execution_count": 180,
   "metadata": {},
   "outputs": [
    {
     "name": "stdout",
     "output_type": "stream",
     "text": [
      "Похибка останньої ітерації: 9.646290466402974e-07\n",
      "Кількість ітерацій: 85\n",
      "Нев`язок: 4.615928574924766e-07\n"
     ]
    },
    {
     "data": {
      "text/plain": [
       "array([-0.40792614,  0.42119899,  1.05068518,  0.41796387,  0.41876573,\n",
       "        0.64158454])"
      ]
     },
     "execution_count": 180,
     "metadata": {},
     "output_type": "execute_result"
    }
   ],
   "source": [
    "succesive_over_relaxation(Q, f, 1.5, 10**(-6), f)"
   ]
  },
  {
   "cell_type": "code",
   "execution_count": 181,
   "metadata": {},
   "outputs": [
    {
     "name": "stdout",
     "output_type": "stream",
     "text": [
      "Похибка останньої ітерації: 8.950063272727959e-07\n",
      "Кількість ітерацій: 1020\n",
      "Нев`язок: 5.133692873027229e-07\n"
     ]
    },
    {
     "data": {
      "text/plain": [
       "array([-0.4079259 ,  0.42119906,  1.05068407,  0.41796409,  0.41876614,\n",
       "        0.64158421])"
      ]
     },
     "execution_count": 181,
     "metadata": {},
     "output_type": "execute_result"
    }
   ],
   "source": [
    "succesive_over_relaxation(Q, f, 1.6, 10**(-6), f)"
   ]
  },
  {
   "cell_type": "code",
   "execution_count": 182,
   "metadata": {},
   "outputs": [
    {
     "name": "stdout",
     "output_type": "stream",
     "text": [
      "Похибка останньої ітерації: 6.792438624891872e-07\n",
      "Кількість ітерацій: 44\n",
      "Нев`язок: 2.0375013676243725e-07\n"
     ]
    },
    {
     "data": {
      "text/plain": [
       "array([-0.40792605,  0.42119905,  1.05068451,  0.41796416,  0.418766  ,\n",
       "        0.64158443])"
      ]
     },
     "execution_count": 182,
     "metadata": {},
     "output_type": "execute_result"
    }
   ],
   "source": [
    "succesive_over_relaxation(Q, f, 1.4, 10**(-6), f)"
   ]
  },
  {
   "cell_type": "code",
   "execution_count": 183,
   "metadata": {},
   "outputs": [
    {
     "name": "stdout",
     "output_type": "stream",
     "text": [
      "Похибка останньої ітерації: 8.713298071949538e-07\n",
      "Кількість ітерацій: 26\n",
      "Нев`язок: 2.8333025176019433e-07\n"
     ]
    },
    {
     "data": {
      "text/plain": [
       "array([-0.4079262 ,  0.42119898,  1.05068499,  0.41796413,  0.4187658 ,\n",
       "        0.64158468])"
      ]
     },
     "execution_count": 183,
     "metadata": {},
     "output_type": "execute_result"
    }
   ],
   "source": [
    "succesive_over_relaxation(Q, f, 1.3, 10**(-6), f)"
   ]
  },
  {
   "cell_type": "code",
   "execution_count": 184,
   "metadata": {},
   "outputs": [
    {
     "name": "stdout",
     "output_type": "stream",
     "text": [
      "Похибка останньої ітерації: 8.398626875072424e-07\n",
      "Кількість ітерацій: 26\n",
      "Нев`язок: 4.254957606808496e-07\n"
     ]
    },
    {
     "data": {
      "text/plain": [
       "array([-0.40792467,  0.42119768,  1.05068334,  0.41796274,  0.41876488,\n",
       "        0.6415835 ])"
      ]
     },
     "execution_count": 184,
     "metadata": {},
     "output_type": "execute_result"
    }
   ],
   "source": [
    "succesive_over_relaxation(Q, f, 1.2, 10**(-6), f)"
   ]
  },
  {
   "cell_type": "code",
   "execution_count": 185,
   "metadata": {},
   "outputs": [
    {
     "name": "stdout",
     "output_type": "stream",
     "text": [
      "Похибка останньої ітерації: 6.02656538561952e-07\n",
      "Кількість ітерацій: 22\n",
      "Нев`язок: 4.3466170807082705e-07\n"
     ]
    },
    {
     "data": {
      "text/plain": [
       "array([-0.40792515,  0.42119836,  1.05068396,  0.41796302,  0.41876543,\n",
       "        0.64158368])"
      ]
     },
     "execution_count": 185,
     "metadata": {},
     "output_type": "execute_result"
    }
   ],
   "source": [
    "succesive_over_relaxation(Q, f, 1.25, 10**(-6), f)"
   ]
  },
  {
   "cell_type": "code",
   "execution_count": 186,
   "metadata": {},
   "outputs": [
    {
     "name": "stdout",
     "output_type": "stream",
     "text": [
      "Похибка останньої ітерації: 7.989250284112792e-07\n",
      "Кількість ітерацій: 24\n",
      "Нев`язок: 3.3844858382536813e-07\n"
     ]
    },
    {
     "data": {
      "text/plain": [
       "array([-0.40792535,  0.42119848,  1.05068386,  0.41796344,  0.41876559,\n",
       "        0.64158383])"
      ]
     },
     "execution_count": 186,
     "metadata": {},
     "output_type": "execute_result"
    }
   ],
   "source": [
    "succesive_over_relaxation(Q, f, 1.25, 10**(-6), np.zeros(6))"
   ]
  }
 ],
 "metadata": {
  "kernelspec": {
   "display_name": "Python 3",
   "language": "python",
   "name": "python3"
  },
  "language_info": {
   "codemirror_mode": {
    "name": "ipython",
    "version": 3
   },
   "file_extension": ".py",
   "mimetype": "text/x-python",
   "name": "python",
   "nbconvert_exporter": "python",
   "pygments_lexer": "ipython3",
   "version": "3.10.6"
  },
  "orig_nbformat": 4,
  "vscode": {
   "interpreter": {
    "hash": "916dbcbb3f70747c44a77c7bcd40155683ae19c65e1c03b4aa3499c5328201f1"
   }
  }
 },
 "nbformat": 4,
 "nbformat_minor": 2
}
