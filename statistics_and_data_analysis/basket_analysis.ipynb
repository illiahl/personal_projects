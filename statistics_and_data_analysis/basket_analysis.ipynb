{
 "cells": [
  {
   "cell_type": "markdown",
   "metadata": {},
   "source": [
    "# Глушенок Ілля Сергійович, КА-12, Варіант 25"
   ]
  },
  {
   "cell_type": "markdown",
   "metadata": {},
   "source": [
    "## Завдання:\n",
    "\n",
    "Задача аналiзу ринкових кошикiв. Задано множину товарiв $I = \\{i_{1}, i_{2}, ..., i_{n}\\}$ та множину транзакцій $D = \\{T_{1}, T_{2}, ..., T_{n}$, де $T = \\{i_{k}|i_k \\in I.\\} \\subseteq I$ - транзакцiя - це множина товарiв, якi були купленi разом в одному чеку.\n",
    "\n",
    "Пiдтримкою довiльного набору $F \\subseteq I$ називається число $Supp(F) = \\dfrac{|D_{F}|}{|D|}$, де $D_{F}$ - множина транзакцiй, якi мiстять набiр $F$: $D_{F} = \\{T_{j}|F \\subseteq T_{j}\\}$, $|D|$ - кiлькiсть елементiв у множинi $D$. \n",
    "Знайти множину частих наборiв товарiв, використовуючи наступний алгоритм: \n",
    "\n",
    "$(а)$ Побудувати множину одноелементних частих наборiв: $L_{1} = \\{i|i \\in I, Supp(i) \\geq Supp_{min}\\}$, де $Supp_{min}$ - заданий параметр - порiг мiнiмальної пiдтримки.\n",
    "\n",
    "$(б)$ Для всiх $k = 2, ..., n$: побудувати множини k-елементних частих наборiв $L_{k} = \\{F \\cup \\{i\\} | F \\in L_{k-1}, i \\in L_{1}\\setminus F, Supp(F \\cup \\{i\\}) \\geq Supp_{min} \\}$\n",
    "\n",
    "$(в)$ Якщо $L_{k} = \\emptyset$, то вихiд iз циклу по $k$.\n",
    "\n",
    "$(г)$ $\\{L_{1} \\cup L_{2} \\cup ... \\cup L_{k}\\}$ - результуюча множина частих наборiв."
   ]
  },
  {
   "cell_type": "markdown",
   "metadata": {},
   "source": [
    "### Реалізація алгоритма"
   ]
  },
  {
   "cell_type": "code",
   "execution_count": 1,
   "metadata": {},
   "outputs": [],
   "source": [
    "def Supp(seletion: set, set_of_transactions:set) -> float:\n",
    "    count = 0\n",
    "    for transaction in set_of_transactions:\n",
    "        if seletion.issubset(transaction):\n",
    "            count += 1\n",
    "    return count/len(set_of_transactions)"
   ]
  },
  {
   "cell_type": "code",
   "execution_count": 2,
   "metadata": {},
   "outputs": [],
   "source": [
    "def get_frequent_goods_set(goods: set, set_of_transactions: set, Supp_min: float) -> set:\n",
    "    L = set()\n",
    "    L_1 = set()\n",
    "    old_set = set()\n",
    "\n",
    "    for element in goods:\n",
    "        if Supp({element}, set_of_transactions) >= Supp_min:\n",
    "            L_1.add(element)\n",
    "            old_set.add(frozenset([element]))\n",
    "\n",
    "    L = L.union(old_set)\n",
    "\n",
    "    for k in range(1,len(goods)):\n",
    "        new_set = set()\n",
    "        for F in old_set:\n",
    "            for i in L_1.difference(old_set):\n",
    "                if Supp(F.union({i}), set_of_transactions) >= Supp_min:\n",
    "                    new_set.add(frozenset(F.union({i})))\n",
    "        if len(new_set) == 0:\n",
    "            break\n",
    "        L = L.union(new_set)\n",
    "        old_set = new_set\n",
    "    return L"
   ]
  },
  {
   "cell_type": "markdown",
   "metadata": {},
   "source": [
    "### Застосування алгоритму до штучно створених даних"
   ]
  },
  {
   "cell_type": "code",
   "execution_count": 5,
   "metadata": {},
   "outputs": [
    {
     "data": {
      "text/plain": [
       "{frozenset({'banana'}),\n",
       " frozenset({'rice'}),\n",
       " frozenset({'water'}),\n",
       " frozenset({'ham'}),\n",
       " frozenset({'banana', 'seeds'}),\n",
       " frozenset({'salmon'}),\n",
       " frozenset({'seeds'})}"
      ]
     },
     "execution_count": 5,
     "metadata": {},
     "output_type": "execute_result"
    }
   ],
   "source": [
    "goods = {\"rice\", \"banana\", \"tangerine\", \"potatoes\", \"avocado\", \"ham\", \"salmon\", \"seeds\", \"water\"}\n",
    "set_of_transactions = {frozenset([\"rice\", \"salmon\"]), frozenset([\"banana\", \"tangeringe\", \"seeds\"]), frozenset([\"banana\", \"ham\", \"salmon\", \"seeds\"]), frozenset([\"ham\", \"avocado\"]), frozenset([\"water\"]), frozenset([\"water\", \"rice\"])}\n",
    "Supp_min = 0.3\n",
    "get_frequent_goods_set(goods, set_of_transactions, Supp_min)"
   ]
  },
  {
   "cell_type": "markdown",
   "metadata": {},
   "source": [
    "### Застосування алгоритму до данх, введених користувачем"
   ]
  },
  {
   "cell_type": "code",
   "execution_count": 5,
   "metadata": {},
   "outputs": [
    {
     "name": "stdout",
     "output_type": "stream",
     "text": [
      "List of goods: {'dog', 'bird', 'tiger', 'cat'}\n",
      "Set of transactions:  {frozenset({'dog', 'cat'}), frozenset({'tiger', 'cat'})}\n"
     ]
    },
    {
     "data": {
      "text/plain": [
       "{frozenset({'tiger'}),\n",
       " frozenset({'cat'}),\n",
       " frozenset({'dog'}),\n",
       " frozenset({'cat', 'dog'}),\n",
       " frozenset({'cat', 'tiger'})}"
      ]
     },
     "execution_count": 5,
     "metadata": {},
     "output_type": "execute_result"
    }
   ],
   "source": [
    "goods = set()\n",
    "while True:\n",
    "    element = str(input(\"Enter product\"))\n",
    "    if element == \"\":\n",
    "        break\n",
    "    goods.add(element)\n",
    "print(f\"List of goods: {goods}\")\n",
    "\n",
    "set_of_transactions = set()\n",
    "while True:\n",
    "    answer = str(input(\"Add transaction? (Y|N)\"))\n",
    "\n",
    "    if answer.upper() == \"Y\":\n",
    "        transaction = set()      \n",
    "        while True:\n",
    "            element = str(input(\"Enter product in transaction\"))\n",
    "            if element == \"\":\n",
    "                break\n",
    "            elif element in goods:\n",
    "                transaction.add(element)\n",
    "            else:\n",
    "                print(\"Such product doesnt exists\")\n",
    "        set_of_transactions.add(frozenset(transaction))\n",
    "\n",
    "    elif answer.upper() == \"N\":\n",
    "        break\n",
    "\n",
    "    else: \n",
    "        print(\"Wrong answer\")\n",
    "print(\"Set of transactions: \", set_of_transactions)\n",
    "\n",
    "Supp_min = 0.1\n",
    "get_frequent_goods_set(goods, set_of_transactions, Supp_min)"
   ]
  }
 ],
 "metadata": {
  "kernelspec": {
   "display_name": "Python 3",
   "language": "python",
   "name": "python3"
  },
  "language_info": {
   "codemirror_mode": {
    "name": "ipython",
    "version": 3
   },
   "file_extension": ".py",
   "mimetype": "text/x-python",
   "name": "python",
   "nbconvert_exporter": "python",
   "pygments_lexer": "ipython3",
   "version": "3.10.12"
  },
  "orig_nbformat": 4
 },
 "nbformat": 4,
 "nbformat_minor": 2
}
