{
 "cells": [
  {
   "cell_type": "code",
   "execution_count": 45,
   "metadata": {},
   "outputs": [],
   "source": [
    "import numpy as np\n",
    "import matplotlib.pyplot as plt\n",
    "from sympy import *"
   ]
  },
  {
   "cell_type": "code",
   "execution_count": 46,
   "metadata": {},
   "outputs": [],
   "source": [
    "plt.style.use(\"seaborn-v0_8-notebook\")"
   ]
  },
  {
   "attachments": {},
   "cell_type": "markdown",
   "metadata": {},
   "source": [
    "# Первинна обробка даних"
   ]
  },
  {
   "cell_type": "code",
   "execution_count": 47,
   "metadata": {},
   "outputs": [],
   "source": [
    "sample = [-0.3422855141240093,\n",
    "-1.7007262149331654,\n",
    "0.738799026633076,\n",
    "-0.5637943402551138,\n",
    "2.099467214889775,\n",
    "1.3378999705252712,\n",
    "0.6285554950574592,\n",
    "0.9818411591492411,\n",
    "-0.788463047796422,\n",
    "-0.7805673247683362,\n",
    "-0.9452961661429988,\n",
    "0.12114622778632333,\n",
    "0.3511286955099757,\n",
    "-1.6277344679331578,\n",
    "0.2210298098729041,\n",
    "0.8535622258931266,\n",
    "0.4406990685860131,\n",
    "-0.2565344318750095,\n",
    "0.6120266704394056,\n",
    "-1.5599764720411442,\n",
    "1.3619542143307968,\n",
    "-1.0945972369346808,\n",
    "-0.8023817487794415,\n",
    "0.18849315837174116,\n",
    "0.20420950671708418,\n",
    "-0.006317773169300323,\n",
    "0.36719259214641664,\n",
    "-0.9916492311049195,\n",
    "-0.45117516187416323,\n",
    "0.6462610816773044,\n",
    "0.4106589512127296,\n",
    "0.570325573717265,\n",
    "-0.6640766591968811,\n",
    "0.8160017768853154,\n",
    "1.3552163038004699,\n",
    "0.4776272790666034,\n",
    "-1.3719539925135305,\n",
    "-0.7289517371461078,\n",
    "0.8727050512005385,\n",
    "1.1869637755418625,\n",
    "0.3669990891102928,\n",
    "-0.15279304398281895,\n",
    "-0.04842952441168812,\n",
    "0.34637839784325564,\n",
    "-0.8533075621503998,\n",
    "0.30561611179866777,\n",
    "0.5727900085859707,\n",
    "-0.49276924152892126,\n",
    "0.9503192793090239,\n",
    "-1.272867269708551,\n",
    "-0.27616436282743706,\n",
    "2.1087415544734927,\n",
    "-0.3986793122247411,\n",
    "-1.4520688254809098,\n",
    "-0.23116851739465813,\n",
    "-0.9132489695487173,\n",
    "-0.021783437813680546,\n",
    "-0.9291441280036657,\n",
    "-0.49382910296275784,\n",
    "0.5879643681354121,\n",
    "-0.615791696094608,\n",
    "-1.1109462897962323,\n",
    "1.3268474466009952,\n",
    "1.9225673747601497,\n",
    "0.45449604690071743,\n",
    "1.40499921740224,\n",
    "-0.237889906612746,\n",
    "-0.19768555595817072,\n",
    "1.5286788692303406,\n",
    "-1.2163979899156874,\n",
    "-0.5996995435020279,\n",
    "-0.984425122829235,\n",
    "1.1257038802509776,\n",
    "-0.45106398959074473,\n",
    "-0.21499985458518472,\n",
    "0.8005806096368947,\n",
    "0.6827784690214195,\n",
    "0.9536614769433204,\n",
    "-0.0643851009959037,\n",
    "-1.2068165326318592,\n",
    "-0.40011890289142304,\n",
    "-1.5808754761629762,\n",
    "0.5708696373496784,\n",
    "-1.1167326899362708,\n",
    "-1.8217373855075103,\n",
    "-1.9956978438879827,\n",
    "-0.7421731184165001,\n",
    "-1.8927830022611336,\n",
    "-1.6337374470073496,\n",
    "-0.6917674987980907,\n",
    "-0.9077022329862425,\n",
    "0.3084928973063504,\n",
    "-1.1637462264255507,\n",
    "0.960174941630304,\n",
    "-0.8071446718883162,\n",
    "1.0815467570800987,\n",
    "-1.084749875612178,\n",
    "1.3626595803875794,\n",
    "-0.1933647786006357,\n",
    "-3.671118077305019]"
   ]
  },
  {
   "cell_type": "code",
   "execution_count": 48,
   "metadata": {},
   "outputs": [],
   "source": [
    "sample = np.array(sample)"
   ]
  },
  {
   "attachments": {},
   "cell_type": "markdown",
   "metadata": {},
   "source": [
    "### Вибіркові характеристики"
   ]
  },
  {
   "cell_type": "code",
   "execution_count": 49,
   "metadata": {},
   "outputs": [],
   "source": [
    "sample_size = sample.size\n",
    "sample_mean = sample.mean()\n",
    "sample_var = sample.var()\n",
    "sample_var_corrected = (sample_size/(sample_size - 1))*sample_var "
   ]
  },
  {
   "cell_type": "code",
   "execution_count": 50,
   "metadata": {},
   "outputs": [
    {
     "name": "stdout",
     "output_type": "stream",
     "text": [
      "Обсяг вибірки = 100\n",
      "\n",
      "Вибіркове середнє = -0.12249654786059028\n",
      "\n",
      "Вибіркова дисперсія = 1.0564295791410898\n",
      "\n",
      "Виправлена вибіркова диспепсія = 1.0671005849909998\n"
     ]
    }
   ],
   "source": [
    "print(f\"Обсяг вибірки = {sample_size}\\n\")\n",
    "print(f\"Вибіркове середнє = {sample_mean}\\n\")\n",
    "print(f\"Вибіркова дисперсія = {sample_var}\\n\")\n",
    "print(f\"Виправлена вибіркова диспепсія = {sample_var_corrected}\")"
   ]
  },
  {
   "cell_type": "code",
   "execution_count": 51,
   "metadata": {},
   "outputs": [],
   "source": [
    "sample_sorted = np.sort(sample)"
   ]
  },
  {
   "cell_type": "code",
   "execution_count": 52,
   "metadata": {},
   "outputs": [
    {
     "data": {
      "text/plain": [
       "array([-3.67111808, -1.99569784, -1.892783  , -1.82173739, -1.70072621,\n",
       "       -1.63373745, -1.62773447, -1.58087548, -1.55997647, -1.45206883,\n",
       "       -1.37195399, -1.27286727, -1.21639799, -1.20681653, -1.16374623,\n",
       "       -1.11673269, -1.11094629, -1.09459724, -1.08474988, -0.99164923,\n",
       "       -0.98442512, -0.94529617, -0.92914413, -0.91324897, -0.90770223,\n",
       "       -0.85330756, -0.80714467, -0.80238175, -0.78846305, -0.78056732,\n",
       "       -0.74217312, -0.72895174, -0.6917675 , -0.66407666, -0.6157917 ,\n",
       "       -0.59969954, -0.56379434, -0.4938291 , -0.49276924, -0.45117516,\n",
       "       -0.45106399, -0.4001189 , -0.39867931, -0.34228551, -0.27616436,\n",
       "       -0.25653443, -0.23788991, -0.23116852, -0.21499985, -0.19768556,\n",
       "       -0.19336478, -0.15279304, -0.0643851 , -0.04842952, -0.02178344,\n",
       "       -0.00631777,  0.12114623,  0.18849316,  0.20420951,  0.22102981,\n",
       "        0.30561611,  0.3084929 ,  0.3463784 ,  0.3511287 ,  0.36699909,\n",
       "        0.36719259,  0.41065895,  0.44069907,  0.45449605,  0.47762728,\n",
       "        0.57032557,  0.57086964,  0.57279001,  0.58796437,  0.61202667,\n",
       "        0.6285555 ,  0.64626108,  0.68277847,  0.73879903,  0.80058061,\n",
       "        0.81600178,  0.85356223,  0.87270505,  0.95031928,  0.95366148,\n",
       "        0.96017494,  0.98184116,  1.08154676,  1.12570388,  1.18696378,\n",
       "        1.32684745,  1.33789997,  1.3552163 ,  1.36195421,  1.36265958,\n",
       "        1.40499922,  1.52867887,  1.92256737,  2.09946721,  2.10874155])"
      ]
     },
     "execution_count": 52,
     "metadata": {},
     "output_type": "execute_result"
    }
   ],
   "source": [
    "sample_sorted"
   ]
  },
  {
   "cell_type": "code",
   "execution_count": 53,
   "metadata": {},
   "outputs": [
    {
     "data": {
      "text/plain": [
       "True"
      ]
     },
     "execution_count": 53,
     "metadata": {},
     "output_type": "execute_result"
    }
   ],
   "source": [
    "sample_size % 2 == 0"
   ]
  },
  {
   "cell_type": "code",
   "execution_count": 54,
   "metadata": {},
   "outputs": [
    {
     "data": {
      "text/plain": [
       "True"
      ]
     },
     "execution_count": 54,
     "metadata": {},
     "output_type": "execute_result"
    }
   ],
   "source": [
    "sample_size/2 % 2 == 0"
   ]
  },
  {
   "cell_type": "code",
   "execution_count": 55,
   "metadata": {},
   "outputs": [],
   "source": [
    "sample_median = (sample_sorted[int(sample_size/2) - 1] + sample_sorted[int(sample_size/2)])/2\n",
    "sample_lower_quartile = (sample_sorted[int(sample_size/4) - 1] + sample_sorted[int(sample_size/4)])/2\n",
    "sample_upper_quartile= (sample_sorted[int(sample_size*3/4) - 1] + sample_sorted[int(sample_size*3/4)])/2\n",
    "sample_iqr = sample_upper_quartile - sample_lower_quartile\n",
    "sample_min = sample.min()\n",
    "sample_max = sample.max()\n",
    "sample_range = sample_max - sample_min"
   ]
  },
  {
   "cell_type": "code",
   "execution_count": 56,
   "metadata": {},
   "outputs": [
    {
     "name": "stdout",
     "output_type": "stream",
     "text": [
      "Вибіркова медіана = -0.19552516727940322\n",
      "\n",
      "Вибірковий нижній квартиль = -0.8805048975683212\n",
      "\n",
      "Вибірковий вернхній квартиль = 0.6202910827484325\n",
      "\n",
      "Вибірковий міжквартильний розмах = 1.5007959803167537\n",
      "\n",
      "Мінімальнй елемент вибірки = -3.671118077305019\n",
      "\n",
      "Максимальний елемент вибірки = 2.1087415544734927\n",
      "\n",
      "Розмах вибірки = 5.779859631778512\n"
     ]
    }
   ],
   "source": [
    "print(f\"Вибіркова медіана = {sample_median}\\n\")\n",
    "print(f\"Вибірковий нижній квартиль = {sample_lower_quartile}\\n\")\n",
    "print(f\"Вибірковий вернхній квартиль = {sample_upper_quartile}\\n\")\n",
    "print(f\"Вибірковий міжквартильний розмах = {sample_iqr}\\n\")\n",
    "print(f\"Мінімальнй елемент вибірки = {sample_min}\\n\")\n",
    "print(f\"Максимальний елемент вибірки = {sample_max}\\n\")\n",
    "print(f\"Розмах вибірки = {sample_range}\")"
   ]
  },
  {
   "attachments": {},
   "cell_type": "markdown",
   "metadata": {},
   "source": [
    "### Інтервальний варіаційний ряд"
   ]
  },
  {
   "cell_type": "code",
   "execution_count": 57,
   "metadata": {},
   "outputs": [],
   "source": [
    "number_of_intervals = int(1 + np.floor(np.log2(sample_size)))"
   ]
  },
  {
   "cell_type": "code",
   "execution_count": 58,
   "metadata": {},
   "outputs": [
    {
     "name": "stdout",
     "output_type": "stream",
     "text": [
      "Кількість інтервалів = 7\n"
     ]
    }
   ],
   "source": [
    "print(f\"Кількість інтервалів = {number_of_intervals}\")"
   ]
  },
  {
   "cell_type": "code",
   "execution_count": 59,
   "metadata": {},
   "outputs": [],
   "source": [
    "size_of_intervals = sample_range/number_of_intervals"
   ]
  },
  {
   "cell_type": "code",
   "execution_count": 60,
   "metadata": {},
   "outputs": [
    {
     "name": "stdout",
     "output_type": "stream",
     "text": [
      "Довжина інтервалів = 0.825694233111216\n"
     ]
    }
   ],
   "source": [
    "print(f\"Довжина інтервалів = {size_of_intervals}\")"
   ]
  },
  {
   "cell_type": "code",
   "execution_count": 61,
   "metadata": {},
   "outputs": [],
   "source": [
    "interval_frequencies = []\n",
    "for i in np.arange(number_of_intervals - 1):\n",
    "    count = 0\n",
    "    for sample_element in sample:\n",
    "        if sample_element >= sample_min + size_of_intervals*i and sample_element < sample_min + size_of_intervals*(i+1):\n",
    "            count += 1\n",
    "    interval_frequencies.append(count)\n",
    "count = 0\n",
    "for sample_element in sample:\n",
    "    if sample_element >= sample_min + size_of_intervals*(number_of_intervals - 1) and sample_element <= sample_max:\n",
    "        count += 1\n",
    "interval_frequencies.append(count)\n",
    "interval_frequencies = np.array(interval_frequencies)"
   ]
  },
  {
   "cell_type": "code",
   "execution_count": 62,
   "metadata": {},
   "outputs": [
    {
     "data": {
      "text/plain": [
       "array([ 1,  0, 13, 29, 26, 21, 10])"
      ]
     },
     "execution_count": 62,
     "metadata": {},
     "output_type": "execute_result"
    }
   ],
   "source": [
    "interval_frequencies"
   ]
  },
  {
   "cell_type": "code",
   "execution_count": 63,
   "metadata": {},
   "outputs": [],
   "source": [
    "interval_values = interval_frequencies/(sample_size*size_of_intervals)"
   ]
  },
  {
   "cell_type": "code",
   "execution_count": 64,
   "metadata": {},
   "outputs": [],
   "source": [
    "x = symbols('x')\n",
    "def interpolating_polynomial(x_array, y_array):\n",
    "    x = symbols('x')\n",
    "    polynomyal = 0\n",
    "    for i in np.arange(np.size(x_array)):\n",
    "        prod = 1\n",
    "        for j in np.arange(np.size(x_array)):\n",
    "            if j == i:\n",
    "                continue\n",
    "            prod *= ((x-x_array[j])/(x_array[i] - x_array[j]))\n",
    "        polynomyal += y_array[i]*prod\n",
    "    return polynomyal"
   ]
  },
  {
   "cell_type": "code",
   "execution_count": 65,
   "metadata": {},
   "outputs": [],
   "source": [
    "interpolating_intervals_arg_array = []\n",
    "for i in np.arange(number_of_intervals):\n",
    "    interpolating_intervals_arg_array.append((sample_min + i*size_of_intervals + sample_min + (i+1)*size_of_intervals)/2)\n",
    "interval_polynomial = interpolating_polynomial(interpolating_intervals_arg_array, interval_values)"
   ]
  },
  {
   "cell_type": "code",
   "execution_count": 66,
   "metadata": {},
   "outputs": [
    {
     "data": {
      "image/png": "[encoded data removed]",
      "text/plain": [
       "<Figure size 800x550 with 1 Axes>"
      ]
     },
     "metadata": {},
     "output_type": "display_data"
    }
   ],
   "source": [
    "for i in np.arange(number_of_intervals - 1):\n",
    "    plt.hlines(interval_values[i], xmin=sample_min + size_of_intervals*i, xmax=sample_min + size_of_intervals*(i+1))\n",
    "\n",
    "    plt.fill_between(np.linspace(sample_min + size_of_intervals*i, sample_min + size_of_intervals*(i+1), 100), interval_values[i], color=\"blue\", alpha=0.25)\n",
    "\n",
    "    plt.vlines(sample_min + size_of_intervals*i, ymin=0, ymax=interval_values[i])\n",
    "    plt.vlines(sample_min + size_of_intervals*(i+1), ymin=0, ymax=interval_values[i])\n",
    "\n",
    "plt.hlines(interval_values[number_of_intervals -1], xmin=sample_min + size_of_intervals*(number_of_intervals - 1), xmax=sample_max)\n",
    "\n",
    "plt.fill_between(np.linspace(sample_min + size_of_intervals*(number_of_intervals - 1), sample_max, 100), interval_values[number_of_intervals - 1], color=\"blue\", alpha=0.25)   \n",
    "\n",
    "plt.vlines(sample_min + size_of_intervals*(number_of_intervals -1), ymin=0, ymax=interval_values[number_of_intervals - 1])\n",
    "plt.vlines(sample_max, ymin=0, ymax=interval_values[number_of_intervals - 1])\n",
    "\n",
    "arg = np.linspace(interpolating_intervals_arg_array[0], interpolating_intervals_arg_array[6], 100)\n",
    "plt.plot(arg, lambdify(x, interval_polynomial)(arg), \"r\")\n",
    "\n",
    "plt.grid()\n",
    "plt.show()"
   ]
  },
  {
   "attachments": {},
   "cell_type": "markdown",
   "metadata": {},
   "source": [
    "### Емпірична функція розподілу"
   ]
  },
  {
   "cell_type": "code",
   "execution_count": 67,
   "metadata": {},
   "outputs": [],
   "source": [
    "def emp_distr_func(x: float) -> float:\n",
    "    count = 0\n",
    "    for boo_val in (sample < x):\n",
    "        if boo_val == True:\n",
    "            count += 1\n",
    "    return count/sample_size"
   ]
  },
  {
   "cell_type": "code",
   "execution_count": 68,
   "metadata": {},
   "outputs": [
    {
     "data": {
      "image/png": "[encoded data removed]",
      "text/plain": [
       "<Figure size 800x550 with 1 Axes>"
      ]
     },
     "metadata": {},
     "output_type": "display_data"
    }
   ],
   "source": [
    "for i in np.arange(sample_size - 1):\n",
    "    plt.hlines(emp_distr_func(sample_sorted[i]), xmin=sample_sorted[i], xmax=sample_sorted[i+1])\n",
    "plt.grid()\n",
    "plt.show()"
   ]
  },
  {
   "attachments": {},
   "cell_type": "markdown",
   "metadata": {},
   "source": [
    "### Діаграма розмаху"
   ]
  },
  {
   "cell_type": "code",
   "execution_count": 69,
   "metadata": {},
   "outputs": [
    {
     "data": {
      "image/png": "[encoded data removed]",
      "text/plain": [
       "<Figure size 800x550 with 1 Axes>"
      ]
     },
     "metadata": {},
     "output_type": "display_data"
    }
   ],
   "source": [
    "plt.boxplot(sample)\n",
    "plt.show()"
   ]
  },
  {
   "attachments": {},
   "cell_type": "markdown",
   "metadata": {},
   "source": [
    "Можемо побачити, що значення -3.67111808 є викидом."
   ]
  },
  {
   "attachments": {},
   "cell_type": "markdown",
   "metadata": {},
   "source": [
    "# Точкові оцінки"
   ]
  },
  {
   "cell_type": "code",
   "execution_count": 70,
   "metadata": {},
   "outputs": [
    {
     "name": "stdout",
     "output_type": "stream",
     "text": [
      "Найкращою оцінкою математичного сподівання є вибіркове середнє = -0.12249654786059028\n",
      "\n",
      "Найкращою оцінкою дисперсії є виправлена вибіркова дисперсія = 1.0671005849909998\n"
     ]
    }
   ],
   "source": [
    "print(f\"Найкращою оцінкою математичного сподівання є вибіркове середнє = {sample_mean}\\n\")\n",
    "print(f\"Найкращою оцінкою дисперсії є виправлена вибіркова дисперсія = {sample_var_corrected}\")"
   ]
  },
  {
   "attachments": {},
   "cell_type": "markdown",
   "metadata": {},
   "source": [
    "# Перевірка гіпотез"
   ]
  },
  {
   "attachments": {},
   "cell_type": "markdown",
   "metadata": {},
   "source": [
    "Виходячи з виду інтервального ряду, що нагадує криву щільності нормального розподілу та виду емпіричної функції розподілу, що нагадує функцію розподілу нормального закону, висунемо гіпотезу $H_{0}: \\xi \\sim N(-0.12, 1.067)$ та перевіримо її за допомогою критерія Пірсона."
   ]
  },
  {
   "cell_type": "code",
   "execution_count": 71,
   "metadata": {},
   "outputs": [
    {
     "data": {
      "text/plain": [
       "[-3.671118077305019,\n",
       " -2.845423844193803,\n",
       " -2.019729611082587,\n",
       " -1.194035377971371,\n",
       " -0.368341144860155,\n",
       " 0.457353088251061,\n",
       " 1.283047321362277]"
      ]
     },
     "execution_count": 71,
     "metadata": {},
     "output_type": "execute_result"
    }
   ],
   "source": [
    "[sample_min + i*size_of_intervals for i in np.arange(number_of_intervals)]"
   ]
  },
  {
   "cell_type": "code",
   "execution_count": 72,
   "metadata": {},
   "outputs": [
    {
     "data": {
      "text/plain": [
       "array([ 1,  0, 13, 29, 26, 21, 10])"
      ]
     },
     "execution_count": 72,
     "metadata": {},
     "output_type": "execute_result"
    }
   ],
   "source": [
    "interval_frequencies"
   ]
  },
  {
   "attachments": {},
   "cell_type": "markdown",
   "metadata": {},
   "source": [
    "Об`єднаємо перші три інтервали, отриимаємо :\n",
    "\n",
    "$(-\\infty, -1.19], \\quad (-1.19, -0.36], \\quad (-0,36, 0.45], \\quad (0.45, 1.28], \\quad (1.28, +\\infty)$."
   ]
  },
  {
   "cell_type": "code",
   "execution_count": 73,
   "metadata": {},
   "outputs": [],
   "source": [
    "hyp_frequencies = []\n",
    "\n",
    "count = 0\n",
    "for sample_element in sample:\n",
    "    if sample_element <= -1.19:\n",
    "        count += 1\n",
    "hyp_frequencies.append(count)\n",
    "\n",
    "count = 0\n",
    "for sample_element in sample:\n",
    "    if sample_element > -1.19 and sample_element <= -0.36:\n",
    "        count += 1\n",
    "hyp_frequencies.append(count)\n",
    "\n",
    "\n",
    "count = 0\n",
    "for sample_element in sample:\n",
    "    if sample_element > -0.36 and sample_element <= 0.45:\n",
    "        count += 1\n",
    "hyp_frequencies.append(count)\n",
    "\n",
    "count = 0\n",
    "for sample_element in sample:\n",
    "    if sample_element > 0.45 and sample_element <= 1.28:\n",
    "        count += 1\n",
    "hyp_frequencies.append(count)\n",
    "\n",
    "count = 0\n",
    "for sample_element in sample:\n",
    "    if sample_element > 1.28:\n",
    "        count += 1\n",
    "hyp_frequencies.append(count)"
   ]
  },
  {
   "cell_type": "code",
   "execution_count": 74,
   "metadata": {},
   "outputs": [],
   "source": [
    "hyp_frequencies = np.array(hyp_frequencies)"
   ]
  },
  {
   "cell_type": "code",
   "execution_count": 75,
   "metadata": {},
   "outputs": [
    {
     "data": {
      "text/plain": [
       "array([14, 29, 25, 22, 10])"
      ]
     },
     "execution_count": 75,
     "metadata": {},
     "output_type": "execute_result"
    }
   ],
   "source": [
    "hyp_frequencies"
   ]
  },
  {
   "attachments": {},
   "cell_type": "markdown",
   "metadata": {},
   "source": [
    "Знайдемо імовірності потрапляння в кожний інтервал: $P(\\xi < b) = \\dfrac{1}{2} + \\Phi\\left(\\dfrac{b+0.12}{\\sqrt{1.067}}\\right)$"
   ]
  },
  {
   "cell_type": "code",
   "execution_count": 76,
   "metadata": {},
   "outputs": [],
   "source": [
    "hyp_probabilities = []\n",
    "hyp_probabilities.append(0.5 - 0.349)\n",
    "hyp_probabilities.append(-0.09 + 0.349)\n",
    "hyp_probabilities.append(0.21 + 0.09)\n",
    "hyp_probabilities.append(0.412 - 0.21)\n",
    "hyp_probabilities.append(0.5 - 0.412)\n",
    "\n",
    "hyp_probabilities = np.array(hyp_probabilities)"
   ]
  },
  {
   "cell_type": "code",
   "execution_count": 77,
   "metadata": {},
   "outputs": [
    {
     "data": {
      "text/plain": [
       "array([0.151, 0.259, 0.3  , 0.202, 0.088])"
      ]
     },
     "execution_count": 77,
     "metadata": {},
     "output_type": "execute_result"
    }
   ],
   "source": [
    "hyp_probabilities"
   ]
  },
  {
   "cell_type": "code",
   "execution_count": 78,
   "metadata": {},
   "outputs": [],
   "source": [
    "hyp_test_statistic = np.sum(((hyp_frequencies - 100*hyp_probabilities)**2)/(100*hyp_probabilities))"
   ]
  },
  {
   "attachments": {},
   "cell_type": "markdown",
   "metadata": {},
   "source": [
    "Нехай рівень значущості $= 0.05$. Критичне значення знайдемо з умови $P(\\chi^{2}_{2} > crytical\\_value) = 0.05$."
   ]
  },
  {
   "cell_type": "code",
   "execution_count": 79,
   "metadata": {},
   "outputs": [],
   "source": [
    "hyp_crytical_value = 5.99"
   ]
  },
  {
   "cell_type": "code",
   "execution_count": 80,
   "metadata": {},
   "outputs": [
    {
     "data": {
      "text/plain": [
       "1.6085406579472534"
      ]
     },
     "execution_count": 80,
     "metadata": {},
     "output_type": "execute_result"
    }
   ],
   "source": [
    "hyp_test_statistic"
   ]
  },
  {
   "cell_type": "code",
   "execution_count": 81,
   "metadata": {},
   "outputs": [
    {
     "data": {
      "text/plain": [
       "True"
      ]
     },
     "execution_count": 81,
     "metadata": {},
     "output_type": "execute_result"
    }
   ],
   "source": [
    "hyp_test_statistic <= hyp_crytical_value"
   ]
  },
  {
   "attachments": {},
   "cell_type": "markdown",
   "metadata": {},
   "source": [
    "Отже, на рівні значущості $0.05$ вибіркові дані не суперечать тому, що $\\xi \\sim N(-0.12, 1.067)$."
   ]
  },
  {
   "attachments": {},
   "cell_type": "markdown",
   "metadata": {},
   "source": [
    "# Довірчі інтервали"
   ]
  },
  {
   "attachments": {},
   "cell_type": "markdown",
   "metadata": {},
   "source": [
    "Задамося рівнем довіри $0.95$."
   ]
  },
  {
   "attachments": {},
   "cell_type": "markdown",
   "metadata": {},
   "source": [
    "Для побудови довірчого інтервала для математичного сподівання скористаємось статистикою $\\gamma = \\dfrac{(\\bar{\\xi} - E\\xi)\\sqrt{n-1}}{\\sqrt{D^{**}\\xi}} \\sim St_{n-1}$."
   ]
  },
  {
   "attachments": {},
   "cell_type": "markdown",
   "metadata": {},
   "source": [
    "Знайдемо $\\gamma_{crytical}$ з умови $P(|St_{n-1}| \\le \\gamma_{crytical}) = 0.95$."
   ]
  },
  {
   "attachments": {},
   "cell_type": "markdown",
   "metadata": {},
   "source": [
    "Тоді наш довірчий інтервал матиме такий вид: $E\\xi \\in \\left[\\bar{\\xi} - \\dfrac{\\gamma_{crytical}\\sqrt{D^{**}\\xi}}{\\sqrt{n-1}},\\quad \\bar{\\xi} + \\dfrac{\\gamma_{crytical}\\sqrt{D^{**}\\xi}}{\\sqrt{n-1}}\\right]$."
   ]
  },
  {
   "cell_type": "code",
   "execution_count": 82,
   "metadata": {},
   "outputs": [],
   "source": [
    "gamma_crytical = 1.984"
   ]
  },
  {
   "cell_type": "code",
   "execution_count": 83,
   "metadata": {},
   "outputs": [
    {
     "name": "stdout",
     "output_type": "stream",
     "text": [
      "Довірчий інтервал для математичного сподівання: [-0.3274448603755835, 0.08245176465440293]\n"
     ]
    }
   ],
   "source": [
    "print(f\"Довірчий інтервал для математичного сподівання: [{sample_mean - gamma_crytical*np.sqrt(sample_var_corrected)/np.sqrt(sample_size)}, {sample_mean + gamma_crytical*np.sqrt(sample_var_corrected)/np.sqrt(sample_size)}]\")"
   ]
  },
  {
   "attachments": {},
   "cell_type": "markdown",
   "metadata": {},
   "source": [
    "Задамося рівнем довіри $0.95$."
   ]
  },
  {
   "attachments": {},
   "cell_type": "markdown",
   "metadata": {},
   "source": [
    "Для побудови довірчого інтервала для дисперсії скористаємось статистикою $\\eta = \\dfrac{(n-1)D^{**}\\xi}{\\sigma^{2}} \\sim \\chi^{2}_{n-1}$."
   ]
  },
  {
   "attachments": {},
   "cell_type": "markdown",
   "metadata": {},
   "source": [
    "Знайдемо $\\eta_{1}$ з умови $P(\\chi^{2}_{n-1} \\le \\eta_{1}) = \\dfrac{1-0.95}{2}$, знайдемо $\\eta_{2}$ з умови $P(\\chi^{2}_{n-1} \\ge \\eta_{2}) = \\dfrac{1-0.95}{2}$."
   ]
  },
  {
   "attachments": {},
   "cell_type": "markdown",
   "metadata": {},
   "source": [
    "Тоді наш довірчий інтервал матиме такий вид: $\\sigma^{2} \\in \\left[\\dfrac{(n-1)D^{**}\\xi}{\\eta{2}}, \\quad \\dfrac{(n-1)D^{**}\\xi}{\\eta{1}}\\right]$."
   ]
  },
  {
   "cell_type": "code",
   "execution_count": 84,
   "metadata": {},
   "outputs": [],
   "source": [
    "eta_1 = 74.22\n",
    "eta_2 = 129.56"
   ]
  },
  {
   "cell_type": "code",
   "execution_count": 85,
   "metadata": {},
   "outputs": [
    {
     "name": "stdout",
     "output_type": "stream",
     "text": [
      "Довірчий інтервал для дисперсії: [0.8153979462342464, 1.4233758813542035]\n"
     ]
    }
   ],
   "source": [
    "print(f\"Довірчий інтервал для дисперсії: [{(sample_size - 1)*sample_var_corrected/eta_2}, {(sample_size - 1)*sample_var_corrected/eta_1}]\")"
   ]
  }
 ],
 "metadata": {
  "kernelspec": {
   "display_name": "Python 3",
   "language": "python",
   "name": "python3"
  },
  "language_info": {
   "codemirror_mode": {
    "name": "ipython",
    "version": 3
   },
   "file_extension": ".py",
   "mimetype": "text/x-python",
   "name": "python",
   "nbconvert_exporter": "python",
   "pygments_lexer": "ipython3",
   "version": "3.10.12"
  },
  "orig_nbformat": 4
 },
 "nbformat": 4,
 "nbformat_minor": 2
}
